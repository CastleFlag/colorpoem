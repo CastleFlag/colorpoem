{
 "cells": [
  {
   "cell_type": "code",
   "execution_count": 5,
   "id": "730ecc14",
   "metadata": {},
   "outputs": [
    {
     "name": "stdout",
     "output_type": "stream",
     "text": [
      "[WinError 3] 지정된 경로를 찾을 수 없습니다: 'colorpoem/prototypes'\n",
      "C:\\Users\\green\\Desktop\\workspace\\colorpoem\\prototypes\n"
     ]
    }
   ],
   "source": [
    "import torch\n",
    "import numpy as np\n",
    "import pandas as pd\n",
    "from transformers import BertTokenizer\n",
    "from transformers import BertForSequenceClassification, AdamW, BertConfig\n",
    "from torch.utils.data import Dataset, DataLoader\n",
    "from sklearn.model_selection import train_test_split\n",
    "from torch.optim import Adam\n",
    "from tqdm.notebook import tqdm\n",
    "import torch.nn.functional as F\n",
    "import GPUtil\n",
    "import random\n",
    "%cd colorpoem/prototypes"
   ]
  },
  {
   "cell_type": "code",
   "execution_count": 6,
   "id": "6a33903f",
   "metadata": {},
   "outputs": [],
   "source": [
    "tokenizer = BertTokenizer.from_pretrained('bert-base-multilingual-cased', do_lower_case=False)"
   ]
  },
  {
   "cell_type": "code",
   "execution_count": 7,
   "id": "6b9f8b06",
   "metadata": {},
   "outputs": [],
   "source": [
    "model = BertForSequenceClassification.from_pretrained(\"bert-base-multilingual-cased\", num_labels=8)\n",
    "# model = torch.load(\"model.pt\")"
   ]
  },
  {
   "cell_type": "code",
   "execution_count": 8,
   "id": "2ef2bd6b",
   "metadata": {},
   "outputs": [
    {
     "data": {
      "text/html": [
       "<div>\n",
       "<style scoped>\n",
       "    .dataframe tbody tr th:only-of-type {\n",
       "        vertical-align: middle;\n",
       "    }\n",
       "\n",
       "    .dataframe tbody tr th {\n",
       "        vertical-align: top;\n",
       "    }\n",
       "\n",
       "    .dataframe thead th {\n",
       "        text-align: right;\n",
       "    }\n",
       "</style>\n",
       "<table border=\"1\" class=\"dataframe\">\n",
       "  <thead>\n",
       "    <tr style=\"text-align: right;\">\n",
       "      <th></th>\n",
       "      <th>사람문장1</th>\n",
       "      <th>감정_대분류</th>\n",
       "    </tr>\n",
       "  </thead>\n",
       "  <tbody>\n",
       "    <tr>\n",
       "      <th>0</th>\n",
       "      <td>아내가 드디어 출산하게 되어서 정말 신이 나.</td>\n",
       "      <td>1</td>\n",
       "    </tr>\n",
       "    <tr>\n",
       "      <th>1</th>\n",
       "      <td>당뇨랑 합병증 때문에 먹어야 할 약이 열 가지가 넘어가니까 스트레스야.</td>\n",
       "      <td>3</td>\n",
       "    </tr>\n",
       "    <tr>\n",
       "      <th>2</th>\n",
       "      <td>고등학교에 올라오니 중학교 때보다 수업이 갑자기 어려워져서 당황스러워.</td>\n",
       "      <td>5</td>\n",
       "    </tr>\n",
       "    <tr>\n",
       "      <th>3</th>\n",
       "      <td>재취업이 돼서 받게 된 첫 월급으로 온 가족이 외식을 할 예정이야. 너무 행복해.</td>\n",
       "      <td>1</td>\n",
       "    </tr>\n",
       "    <tr>\n",
       "      <th>4</th>\n",
       "      <td>빚을 드디어 다 갚게 되어서 이제야 안도감이 들어.</td>\n",
       "      <td>1</td>\n",
       "    </tr>\n",
       "    <tr>\n",
       "      <th>5</th>\n",
       "      <td>이제 곧 은퇴할 시기가 되었어. 내가 먼저 은퇴를 하고 육 개월 후에 남편도 은퇴를...</td>\n",
       "      <td>3</td>\n",
       "    </tr>\n",
       "    <tr>\n",
       "      <th>6</th>\n",
       "      <td>사십 대에 접어들면서 머리카락이 많이 빠져 고민이야.</td>\n",
       "      <td>2</td>\n",
       "    </tr>\n",
       "    <tr>\n",
       "      <th>7</th>\n",
       "      <td>이제 돈이라면 지긋지긋해.</td>\n",
       "      <td>4</td>\n",
       "    </tr>\n",
       "    <tr>\n",
       "      <th>8</th>\n",
       "      <td>친구들이 나를 괴롭혀. 부모님과 선생님께 얘기했는데도 믿어주지 않아.</td>\n",
       "      <td>4</td>\n",
       "    </tr>\n",
       "    <tr>\n",
       "      <th>9</th>\n",
       "      <td>친구 때문에 눈물 나.</td>\n",
       "      <td>2</td>\n",
       "    </tr>\n",
       "  </tbody>\n",
       "</table>\n",
       "</div>"
      ],
      "text/plain": [
       "                                               사람문장1  감정_대분류\n",
       "0                          아내가 드디어 출산하게 되어서 정말 신이 나.       1\n",
       "1            당뇨랑 합병증 때문에 먹어야 할 약이 열 가지가 넘어가니까 스트레스야.       3\n",
       "2            고등학교에 올라오니 중학교 때보다 수업이 갑자기 어려워져서 당황스러워.       5\n",
       "3      재취업이 돼서 받게 된 첫 월급으로 온 가족이 외식을 할 예정이야. 너무 행복해.       1\n",
       "4                       빚을 드디어 다 갚게 되어서 이제야 안도감이 들어.       1\n",
       "5  이제 곧 은퇴할 시기가 되었어. 내가 먼저 은퇴를 하고 육 개월 후에 남편도 은퇴를...       3\n",
       "6                      사십 대에 접어들면서 머리카락이 많이 빠져 고민이야.       2\n",
       "7                                     이제 돈이라면 지긋지긋해.       4\n",
       "8             친구들이 나를 괴롭혀. 부모님과 선생님께 얘기했는데도 믿어주지 않아.       4\n",
       "9                                       친구 때문에 눈물 나.       2"
      ]
     },
     "execution_count": 8,
     "metadata": {},
     "output_type": "execute_result"
    }
   ],
   "source": [
    "dataframe = pd.read_csv('../resource/emotion_classification.csv').dropna(axis=0)\n",
    "#중립0 행복1 슬픔2 공포3 분노4 놀람5 혐오6 상처7\n",
    "emodict = {'중립':0, '행복':1, '슬픔':2, '공포':3, '분노':4, '놀람':5, '혐오':6, '상처':7}\n",
    "for k,v in emodict.items():\n",
    "    dataframe = dataframe.replace(k, v)\n",
    "\n",
    "dataframe.drop(dataframe[dataframe['감정_대분류']==6].index, inplace=True)\n",
    "dataframe.drop(dataframe[dataframe['감정_대분류']==7].index, inplace=True)\n",
    "dataframe[:10]"
   ]
  },
  {
   "cell_type": "code",
   "execution_count": 9,
   "id": "e1370658",
   "metadata": {},
   "outputs": [
    {
     "data": {
      "text/plain": [
       "0    60577\n",
       "2    28430\n",
       "4    22794\n",
       "5    19875\n",
       "1    18148\n",
       "3    16912\n",
       "Name: 감정_대분류, dtype: int64"
      ]
     },
     "execution_count": 9,
     "metadata": {},
     "output_type": "execute_result"
    }
   ],
   "source": [
    "dataframe['감정_대분류'].value_counts()"
   ]
  },
  {
   "cell_type": "code",
   "execution_count": 10,
   "id": "5317ea89",
   "metadata": {},
   "outputs": [],
   "source": [
    "train_df, test_df = train_test_split(dataframe, test_size=0.2)"
   ]
  },
  {
   "cell_type": "code",
   "execution_count": 11,
   "id": "3e69a0de",
   "metadata": {},
   "outputs": [],
   "source": [
    "max_len = 128\n",
    "batch_size = 64\n",
    "learning_rate = 1e-5\n",
    "epochs = 3\n",
    "seed_val = 42"
   ]
  },
  {
   "cell_type": "code",
   "execution_count": 12,
   "id": "ea2506b0",
   "metadata": {},
   "outputs": [],
   "source": [
    "class MyDataset(Dataset):\n",
    "    def __init__(self, df):\n",
    "        total_list = []\n",
    "        for index, row in tqdm(df.iterrows(), total=df.shape[0]):\n",
    "            text = row[0]\n",
    "            encoded_list = tokenizer.encode(text, add_special_tokens=True, max_length=max_len, padding='max_length', truncation=True)\n",
    "            total_list.append(encoded_list)\n",
    "        self.df = pd.DataFrame({'사람문장' : total_list, '감정_대분류' :df['감정_대분류']}).reset_index(drop=True)\n",
    "    def __len__(self):\n",
    "        return len(self.df)\n",
    "\n",
    "    def __getitem__(self, idx):\n",
    "        text = np.array(self.df.iloc[idx, 0])\n",
    "        label = self.df.iloc[idx, 1]\n",
    "        return text, label"
   ]
  },
  {
   "cell_type": "code",
   "execution_count": 13,
   "id": "e138c93c",
   "metadata": {},
   "outputs": [
    {
     "data": {
      "application/vnd.jupyter.widget-view+json": {
       "model_id": "873f506e7edb490482e9579c468d732b",
       "version_major": 2,
       "version_minor": 0
      },
      "text/plain": [
       "  0%|          | 0/133388 [00:00<?, ?it/s]"
      ]
     },
     "metadata": {},
     "output_type": "display_data"
    },
    {
     "data": {
      "application/vnd.jupyter.widget-view+json": {
       "model_id": "321beacc23a04810a2c6a6a1dbe49a95",
       "version_major": 2,
       "version_minor": 0
      },
      "text/plain": [
       "  0%|          | 0/33348 [00:00<?, ?it/s]"
      ]
     },
     "metadata": {},
     "output_type": "display_data"
    }
   ],
   "source": [
    "train_dataset = MyDataset(train_df)\n",
    "test_dataset = MyDataset(test_df)"
   ]
  },
  {
   "cell_type": "code",
   "execution_count": 14,
   "id": "e9a19c06",
   "metadata": {},
   "outputs": [],
   "source": [
    "train_dataloader = DataLoader(train_dataset, batch_size=batch_size, shuffle=True, num_workers=0)\n",
    "test_dataloader = DataLoader(test_dataset, batch_size=batch_size, shuffle=True, num_workers=0)"
   ]
  },
  {
   "cell_type": "code",
   "execution_count": 15,
   "id": "d48381b2",
   "metadata": {},
   "outputs": [
    {
     "data": {
      "text/plain": [
       "[tensor([[   101,   9576, 119022,  ...,      0,      0,      0],\n",
       "         [   101,   9246, 119049,  ...,      0,      0,      0],\n",
       "         [   101,   9781,  17196,  ...,      0,      0,      0],\n",
       "         ...,\n",
       "         [   101,   9651,  40419,  ...,      0,      0,      0],\n",
       "         [   101,   9847, 119420,  ...,      0,      0,      0],\n",
       "         [   101,   9340, 119216,  ...,      0,      0,      0]],\n",
       "        dtype=torch.int32),\n",
       " tensor([5, 0, 4, 0, 1, 4, 4, 2, 0, 5, 5, 2, 0, 5, 1, 0, 0, 0, 0, 2, 0, 5, 0, 1,\n",
       "         2, 5, 0, 4, 3, 0, 2, 4, 2, 0, 4, 1, 2, 4, 0, 2, 4, 3, 0, 3, 2, 0, 3, 2,\n",
       "         1, 5, 0, 4, 1, 2, 4, 0, 0, 4, 2, 3, 4, 3, 0, 4])]"
      ]
     },
     "execution_count": 15,
     "metadata": {},
     "output_type": "execute_result"
    }
   ],
   "source": [
    "next(iter(train_dataloader))"
   ]
  },
  {
   "cell_type": "code",
   "execution_count": 16,
   "id": "ac7b61ae",
   "metadata": {},
   "outputs": [
    {
     "ename": "AttributeError",
     "evalue": "'collections.OrderedDict' object has no attribute 'to'",
     "output_type": "error",
     "traceback": [
      "\u001b[1;31m---------------------------------------------------------------------------\u001b[0m",
      "\u001b[1;31mAttributeError\u001b[0m                            Traceback (most recent call last)",
      "\u001b[1;32m/Users/gijeong/workspace/colorpoem/prototypes/multi_custom_dataset_and_predict.ipynb Cell 12'\u001b[0m in \u001b[0;36m<cell line: 2>\u001b[1;34m()\u001b[0m\n\u001b[0;32m      <a href='vscode-notebook-cell:/Users/gijeong/workspace/colorpoem/prototypes/multi_custom_dataset_and_predict.ipynb#ch0000013?line=0'>1</a>\u001b[0m device \u001b[39m=\u001b[39m torch\u001b[39m.\u001b[39mdevice(\u001b[39m\"\u001b[39m\u001b[39mcuda:0\u001b[39m\u001b[39m\"\u001b[39m)\n\u001b[1;32m----> <a href='vscode-notebook-cell:/Users/gijeong/workspace/colorpoem/prototypes/multi_custom_dataset_and_predict.ipynb#ch0000013?line=1'>2</a>\u001b[0m model\u001b[39m.\u001b[39;49mto(device)\n",
      "\u001b[1;31mAttributeError\u001b[0m: 'collections.OrderedDict' object has no attribute 'to'"
     ]
    }
   ],
   "source": [
    "device = torch.device(\"cuda:0\")\n",
    "model.to(device)"
   ]
  },
  {
   "cell_type": "code",
   "execution_count": null,
   "id": "7442f263",
   "metadata": {},
   "outputs": [],
   "source": [
    "optimizer = Adam(model.parameters(), lr=learning_rate)\n",
    "p_itr = 500"
   ]
  },
  {
   "cell_type": "code",
   "execution_count": null,
   "id": "0fb14f0b",
   "metadata": {},
   "outputs": [],
   "source": [
    "def categorical_accuracy(logits, label):\n",
    "    top_logits = torch.argmax(F.softmax(logits, dim=1), dim=1)\n",
    "    # print(top_logits)\n",
    "    # print(label)\n",
    "    correct = top_logits.eq(label).sum()\n",
    "    return correct"
   ]
  },
  {
   "cell_type": "code",
   "execution_count": null,
   "id": "c9426809",
   "metadata": {},
   "outputs": [
    {
     "data": {
      "application/vnd.jupyter.widget-view+json": {
       "model_id": "4e2450a903d54340a2f119ea8b5feb26",
       "version_major": 2,
       "version_minor": 0
      },
      "text/plain": [
       "  0%|          | 0/2085 [00:00<?, ?it/s]"
      ]
     },
     "metadata": {},
     "output_type": "display_data"
    },
    {
     "name": "stdout",
     "output_type": "stream",
     "text": [
      "[Epoch 1/5] itr 500 -> Train Loss: 1.4584, Accuracy: 0.456\n",
      "[Epoch 1/5] itr 1000 -> Train Loss: 1.2969, Accuracy: 0.522\n",
      "[Epoch 1/5] itr 1500 -> Train Loss: 1.2162, Accuracy: 0.554\n",
      "[Epoch 1/5] itr 2000 -> Train Loss: 1.1687, Accuracy: 0.571\n"
     ]
    },
    {
     "data": {
      "application/vnd.jupyter.widget-view+json": {
       "model_id": "2492301dbea74f3387b2730d0fc38995",
       "version_major": 2,
       "version_minor": 0
      },
      "text/plain": [
       "  0%|          | 0/522 [00:00<?, ?it/s]"
      ]
     },
     "metadata": {},
     "output_type": "display_data"
    },
    {
     "name": "stdout",
     "output_type": "stream",
     "text": [
      "epoch 1 test acc 0.641882183908046\n"
     ]
    },
    {
     "data": {
      "application/vnd.jupyter.widget-view+json": {
       "model_id": "f08b6925ec9b4e249d8326bab8f2803d",
       "version_major": 2,
       "version_minor": 0
      },
      "text/plain": [
       "  0%|          | 0/2085 [00:00<?, ?it/s]"
      ]
     },
     "metadata": {},
     "output_type": "display_data"
    },
    {
     "name": "stdout",
     "output_type": "stream",
     "text": [
      "[Epoch 2/5] itr 2500 -> Train Loss: 0.9716, Accuracy: 0.649\n",
      "[Epoch 2/5] itr 3000 -> Train Loss: 0.9610, Accuracy: 0.653\n",
      "[Epoch 2/5] itr 3500 -> Train Loss: 0.9516, Accuracy: 0.656\n",
      "[Epoch 2/5] itr 4000 -> Train Loss: 0.9468, Accuracy: 0.657\n"
     ]
    },
    {
     "data": {
      "application/vnd.jupyter.widget-view+json": {
       "model_id": "511f9671780f4effa866f083bfadd74c",
       "version_major": 2,
       "version_minor": 0
      },
      "text/plain": [
       "  0%|          | 0/522 [00:00<?, ?it/s]"
      ]
     },
     "metadata": {},
     "output_type": "display_data"
    },
    {
     "name": "stdout",
     "output_type": "stream",
     "text": [
      "epoch 2 test acc 0.6651999521072797\n"
     ]
    },
    {
     "data": {
      "application/vnd.jupyter.widget-view+json": {
       "model_id": "a6f159cfbaba4c9b930bb7b15c3fbf57",
       "version_major": 2,
       "version_minor": 0
      },
      "text/plain": [
       "  0%|          | 0/2085 [00:00<?, ?it/s]"
      ]
     },
     "metadata": {},
     "output_type": "display_data"
    },
    {
     "name": "stdout",
     "output_type": "stream",
     "text": [
      "[Epoch 3/5] itr 4500 -> Train Loss: 0.8702, Accuracy: 0.690\n",
      "[Epoch 3/5] itr 5000 -> Train Loss: 0.8748, Accuracy: 0.685\n",
      "[Epoch 3/5] itr 5500 -> Train Loss: 0.8739, Accuracy: 0.685\n",
      "[Epoch 3/5] itr 6000 -> Train Loss: 0.8727, Accuracy: 0.685\n"
     ]
    },
    {
     "data": {
      "application/vnd.jupyter.widget-view+json": {
       "model_id": "55773505f446486389a2b9490895f600",
       "version_major": 2,
       "version_minor": 0
      },
      "text/plain": [
       "  0%|          | 0/522 [00:00<?, ?it/s]"
      ]
     },
     "metadata": {},
     "output_type": "display_data"
    },
    {
     "name": "stdout",
     "output_type": "stream",
     "text": [
      "epoch 3 test acc 0.6734315134099617\n"
     ]
    },
    {
     "data": {
      "application/vnd.jupyter.widget-view+json": {
       "model_id": "357250932b514cb988abb28df43bd18e",
       "version_major": 2,
       "version_minor": 0
      },
      "text/plain": [
       "  0%|          | 0/2085 [00:00<?, ?it/s]"
      ]
     },
     "metadata": {},
     "output_type": "display_data"
    },
    {
     "name": "stdout",
     "output_type": "stream",
     "text": [
      "[Epoch 4/5] itr 6500 -> Train Loss: 0.8051, Accuracy: 0.710\n",
      "[Epoch 4/5] itr 7000 -> Train Loss: 0.8164, Accuracy: 0.706\n",
      "[Epoch 4/5] itr 7500 -> Train Loss: 0.8177, Accuracy: 0.705\n",
      "[Epoch 4/5] itr 8000 -> Train Loss: 0.8181, Accuracy: 0.705\n"
     ]
    },
    {
     "data": {
      "application/vnd.jupyter.widget-view+json": {
       "model_id": "39b88d4cb810449f96042575b63971a8",
       "version_major": 2,
       "version_minor": 0
      },
      "text/plain": [
       "  0%|          | 0/522 [00:00<?, ?it/s]"
      ]
     },
     "metadata": {},
     "output_type": "display_data"
    },
    {
     "name": "stdout",
     "output_type": "stream",
     "text": [
      "epoch 4 test acc 0.6734015804597702\n"
     ]
    },
    {
     "data": {
      "application/vnd.jupyter.widget-view+json": {
       "model_id": "2655d069d1ea443eb8787881097c396b",
       "version_major": 2,
       "version_minor": 0
      },
      "text/plain": [
       "  0%|          | 0/2085 [00:00<?, ?it/s]"
      ]
     },
     "metadata": {},
     "output_type": "display_data"
    },
    {
     "name": "stdout",
     "output_type": "stream",
     "text": [
      "[Epoch 5/5] itr 8500 -> Train Loss: 0.7582, Accuracy: 0.725\n",
      "[Epoch 5/5] itr 9000 -> Train Loss: 0.7648, Accuracy: 0.723\n",
      "[Epoch 5/5] itr 9500 -> Train Loss: 0.7647, Accuracy: 0.723\n",
      "[Epoch 5/5] itr 10000 -> Train Loss: 0.7668, Accuracy: 0.723\n"
     ]
    },
    {
     "data": {
      "application/vnd.jupyter.widget-view+json": {
       "model_id": "e54cb50725f941df84c1ef101251f3c7",
       "version_major": 2,
       "version_minor": 0
      },
      "text/plain": [
       "  0%|          | 0/522 [00:00<?, ?it/s]"
      ]
     },
     "metadata": {},
     "output_type": "display_data"
    },
    {
     "name": "stdout",
     "output_type": "stream",
     "text": [
      "epoch 5 test acc 0.6761554118773946\n"
     ]
    }
   ],
   "source": [
    "for epoch in range(epochs):\n",
    "    # GPUtil.showUtilization()\n",
    "    epoch_loss = 0\n",
    "    epoch_acc = 0\n",
    "    model.train()\n",
    "    for batch_id, (text, label) in tqdm(enumerate(train_dataloader), total=len(train_dataloader)):\n",
    "        optimizer.zero_grad()\n",
    "        sample = text.to(device)\n",
    "        labels = label.to(device)\n",
    "        outputs = model(sample, labels=labels)\n",
    "        \n",
    "        loss = outputs[0]\n",
    "        logits = outputs[1]\n",
    "        loss.backward()\n",
    "        optimizer.step()\n",
    "\n",
    "        acc = categorical_accuracy(logits, labels) \n",
    "        epoch_loss += loss.item()\n",
    "        epoch_acc += acc.item()\n",
    "        if itr % p_itr == 0:\n",
    "            print('[Epoch {}/{}] itr {} -> Train Loss: {:.4f}, Accuracy: {:.3f}'.format(epoch+1, epochs, batch_id+1, epoch_loss/(batch_id+1), epoch_acc/((1+batch_id)*batch_size)))\n",
    "        #torch.save(model.state_dict(), './model.pt')\n",
    "     \n",
    "    model.eval()\n",
    "    test_acc = 0\n",
    "    for batch_id, (text, label) in tqdm(enumerate(test_dataloader), total=len(test_dataloader)):\n",
    "        sample = text.to(device)\n",
    "        labels = label.to(device)\n",
    "        with torch.no_grad():    \n",
    "            outputs = model(sample, labels=labels)\n",
    "        logits = outputs[1]\n",
    "        acc = categorical_accuracy(logits, labels)\n",
    "        test_acc += acc.item()\n",
    "    print(\"epoch {} test acc {}\".format(epoch+1, test_acc/(batch_size*(batch_id+1))))"
   ]
  },
  {
   "cell_type": "code",
   "execution_count": null,
   "id": "03e6b941",
   "metadata": {},
   "outputs": [],
   "source": [
    "def predict(sentence):\n",
    "    df = pd.DataFrame({'사람문장':[sentence], '감정_대분류':[0]})\n",
    "    dataset = MyDataset(df)\n",
    "    dataloader = DataLoader(dataset, batch_size=batch_size, shuffle=True, num_workers=0)\n",
    "    \n",
    "    model.eval()\n",
    "    for batch_id, (text, label) in tqdm(enumerate(dataloader), total=len(dataloader)): \n",
    "        sample = text.to(device)\n",
    "        with torch.no_grad():    \n",
    "            outputs = model(sample)\n",
    "        logits = outputs[0]\n",
    "        return [k for k, v in emodict.items() if v == torch.argmax(logits)][0]"
   ]
  },
  {
   "cell_type": "code",
   "execution_count": null,
   "id": "faa82606",
   "metadata": {},
   "outputs": [
    {
     "data": {
      "application/vnd.jupyter.widget-view+json": {
       "model_id": "15024de483bb4f21bb78ba48d43c7fae",
       "version_major": 2,
       "version_minor": 0
      },
      "text/plain": [
       "  0%|          | 0/1 [00:00<?, ?it/s]"
      ]
     },
     "metadata": {},
     "output_type": "display_data"
    },
    {
     "data": {
      "application/vnd.jupyter.widget-view+json": {
       "model_id": "0c5a9c85f22a435faf495dc3f17b30d4",
       "version_major": 2,
       "version_minor": 0
      },
      "text/plain": [
       "  0%|          | 0/1 [00:00<?, ?it/s]"
      ]
     },
     "metadata": {},
     "output_type": "display_data"
    },
    {
     "data": {
      "text/plain": [
       "'슬픔'"
      ]
     },
     "execution_count": 17,
     "metadata": {},
     "output_type": "execute_result"
    }
   ],
   "source": [
    "predict(\"나 진짜 왜 살까\")"
   ]
  },
  {
   "cell_type": "code",
   "execution_count": null,
   "id": "15841b6a",
   "metadata": {},
   "outputs": [],
   "source": [
    "torch.save(model.state_dict(), './model.pt')"
   ]
  },
  {
   "cell_type": "markdown",
   "id": "5cd40f3b",
   "metadata": {},
   "source": [
    "##### "
   ]
  },
  {
   "cell_type": "markdown",
   "id": "4ddfa0cb",
   "metadata": {},
   "source": []
  }
 ],
 "metadata": {
  "kernelspec": {
   "display_name": "Python 3 (ipykernel)",
   "language": "python",
   "name": "python3"
  },
  "language_info": {
   "codemirror_mode": {
    "name": "ipython",
    "version": 3
   },
   "file_extension": ".py",
   "mimetype": "text/x-python",
   "name": "python",
   "nbconvert_exporter": "python",
   "pygments_lexer": "ipython3",
   "version": "3.10.4"
  },
  "vscode": {
   "interpreter": {
    "hash": "31f2aee4e71d21fbe5cf8b01ff0e069b9275f58929596ceb00d14d90e3e16cd6"
   }
  }
 },
 "nbformat": 4,
 "nbformat_minor": 5
}
