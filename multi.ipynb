{
 "cells": [
  {
   "cell_type": "code",
   "execution_count": 1,
   "id": "730ecc14",
   "metadata": {},
   "outputs": [],
   "source": [
    "import torch\n",
    "import numpy as np\n",
    "import pandas as pd\n",
    "from transformers import BertTokenizer\n",
    "from transformers import BertForSequenceClassification, AdamW, BertConfig\n",
    "from torch.utils.data import Dataset, DataLoader\n",
    "from sklearn.model_selection import train_test_split\n",
    "from torch.optim import Adam\n",
    "from tqdm.notebook import tqdm\n",
    "import torch.nn.functional as F\n",
    "import GPUtil\n",
    "import random"
   ]
  },
  {
   "cell_type": "code",
   "execution_count": 2,
   "id": "6a33903f",
   "metadata": {},
   "outputs": [],
   "source": [
    "tokenizer = BertTokenizer.from_pretrained('bert-base-multilingual-cased', do_lower_case=False)"
   ]
  },
  {
   "cell_type": "code",
   "execution_count": 3,
   "id": "6b9f8b06",
   "metadata": {},
   "outputs": [
    {
     "name": "stderr",
     "output_type": "stream",
     "text": [
      "Some weights of the model checkpoint at bert-base-multilingual-cased were not used when initializing BertForSequenceClassification: ['cls.seq_relationship.weight', 'cls.predictions.decoder.weight', 'cls.predictions.bias', 'cls.seq_relationship.bias', 'cls.predictions.transform.dense.weight', 'cls.predictions.transform.LayerNorm.bias', 'cls.predictions.transform.dense.bias', 'cls.predictions.transform.LayerNorm.weight']\n",
      "- This IS expected if you are initializing BertForSequenceClassification from the checkpoint of a model trained on another task or with another architecture (e.g. initializing a BertForSequenceClassification model from a BertForPreTraining model).\n",
      "- This IS NOT expected if you are initializing BertForSequenceClassification from the checkpoint of a model that you expect to be exactly identical (initializing a BertForSequenceClassification model from a BertForSequenceClassification model).\n",
      "Some weights of BertForSequenceClassification were not initialized from the model checkpoint at bert-base-multilingual-cased and are newly initialized: ['classifier.weight', 'classifier.bias']\n",
      "You should probably TRAIN this model on a down-stream task to be able to use it for predictions and inference.\n"
     ]
    }
   ],
   "source": [
    "model = BertForSequenceClassification.from_pretrained(\"bert-base-multilingual-cased\", num_labels=8)"
   ]
  },
  {
   "cell_type": "code",
   "execution_count": 4,
   "id": "2ef2bd6b",
   "metadata": {},
   "outputs": [
    {
     "data": {
      "text/html": [
       "<div>\n",
       "<style scoped>\n",
       "    .dataframe tbody tr th:only-of-type {\n",
       "        vertical-align: middle;\n",
       "    }\n",
       "\n",
       "    .dataframe tbody tr th {\n",
       "        vertical-align: top;\n",
       "    }\n",
       "\n",
       "    .dataframe thead th {\n",
       "        text-align: right;\n",
       "    }\n",
       "</style>\n",
       "<table border=\"1\" class=\"dataframe\">\n",
       "  <thead>\n",
       "    <tr style=\"text-align: right;\">\n",
       "      <th></th>\n",
       "      <th>사람문장1</th>\n",
       "      <th>감정_대분류</th>\n",
       "    </tr>\n",
       "  </thead>\n",
       "  <tbody>\n",
       "    <tr>\n",
       "      <th>116165</th>\n",
       "      <td>자연의 힘으로 간단하게 통일</td>\n",
       "      <td>0</td>\n",
       "    </tr>\n",
       "    <tr>\n",
       "      <th>67503</th>\n",
       "      <td>집에 들어오면 제일 먼저 반겨준 해피가 집에 없으니까 너무 허전하고 이상해. 해피가...</td>\n",
       "      <td>2</td>\n",
       "    </tr>\n",
       "    <tr>\n",
       "      <th>149164</th>\n",
       "      <td>별 이상 없어 보이고요. 접종은 차근차근 하시면 돼요.</td>\n",
       "      <td>0</td>\n",
       "    </tr>\n",
       "    <tr>\n",
       "      <th>73437</th>\n",
       "      <td>당연히 마음에 들지! 엄청 비싼 향수야.</td>\n",
       "      <td>1</td>\n",
       "    </tr>\n",
       "    <tr>\n",
       "      <th>164187</th>\n",
       "      <td>아~아~그러니까 내 차를 거기다가 그러니까 AS를 맡겼는데…</td>\n",
       "      <td>0</td>\n",
       "    </tr>\n",
       "    <tr>\n",
       "      <th>137577</th>\n",
       "      <td>이길 수 있을지 나도 몰라. 하지만 최선을 다할거야. 그러고 싶어졌어.</td>\n",
       "      <td>0</td>\n",
       "    </tr>\n",
       "    <tr>\n",
       "      <th>173262</th>\n",
       "      <td>아, 남편이었음 해서요. 이 세상에서 나보다 더 어울릴 사람은 없어요. 정말 남편이...</td>\n",
       "      <td>0</td>\n",
       "    </tr>\n",
       "    <tr>\n",
       "      <th>147481</th>\n",
       "      <td>제가 갑자기 해외 지사로 발령을 받게 돼서 상품을 계속 이용할 수 없게 됐는데 이런...</td>\n",
       "      <td>0</td>\n",
       "    </tr>\n",
       "    <tr>\n",
       "      <th>13426</th>\n",
       "      <td>노인정 사람들이 내가 요실금인걸 알까봐 긴장돼.</td>\n",
       "      <td>3</td>\n",
       "    </tr>\n",
       "    <tr>\n",
       "      <th>180940</th>\n",
       "      <td>그럴 리가 없잖냐.</td>\n",
       "      <td>0</td>\n",
       "    </tr>\n",
       "  </tbody>\n",
       "</table>\n",
       "</div>"
      ],
      "text/plain": [
       "                                                    사람문장1  감정_대분류\n",
       "116165                                    자연의 힘으로 간단하게 통일       0\n",
       "67503   집에 들어오면 제일 먼저 반겨준 해피가 집에 없으니까 너무 허전하고 이상해. 해피가...       2\n",
       "149164                     별 이상 없어 보이고요. 접종은 차근차근 하시면 돼요.       0\n",
       "73437                              당연히 마음에 들지! 엄청 비싼 향수야.       1\n",
       "164187                  아~아~그러니까 내 차를 거기다가 그러니까 AS를 맡겼는데…       0\n",
       "137577           이길 수 있을지 나도 몰라. 하지만 최선을 다할거야. 그러고 싶어졌어.        0\n",
       "173262  아, 남편이었음 해서요. 이 세상에서 나보다 더 어울릴 사람은 없어요. 정말 남편이...       0\n",
       "147481  제가 갑자기 해외 지사로 발령을 받게 돼서 상품을 계속 이용할 수 없게 됐는데 이런...       0\n",
       "13426                          노인정 사람들이 내가 요실금인걸 알까봐 긴장돼.       3\n",
       "180940                                         그럴 리가 없잖냐.       0"
      ]
     },
     "execution_count": 4,
     "metadata": {},
     "output_type": "execute_result"
    }
   ],
   "source": [
    "dataframe = pd.read_csv('./resource/emotion_classification.csv').dropna(axis=0).sample(frac=0.5)\n",
    "#중립0 행복1 슬픔2 공포3 분노4 놀람5 혐오6 상처7\n",
    "emodict = {'중립':0, '행복':1, '슬픔':2, '공포':3, '분노':4, '놀람':5, '혐오':6, '상처':7}\n",
    "for k,v in emodict.items():\n",
    "    dataframe = dataframe.replace(k, v)\n",
    "dataframe[:10]"
   ]
  },
  {
   "cell_type": "code",
   "execution_count": 5,
   "id": "5317ea89",
   "metadata": {},
   "outputs": [],
   "source": [
    "train_df, test_df = train_test_split(dataframe, test_size=0.2, random_state=42)"
   ]
  },
  {
   "cell_type": "code",
   "execution_count": 6,
   "id": "3e69a0de",
   "metadata": {},
   "outputs": [],
   "source": [
    "# max_len = 64\n",
    "# batch_size = 64\n",
    "# warmup_ratio = 0.1\n",
    "# num_epochs = 5\n",
    "# max_grad_norm = 1\n",
    "# log_interval = 200\n",
    "# learning_rate =  5e-5"
   ]
  },
  {
   "cell_type": "code",
   "execution_count": 7,
   "id": "ea2506b0",
   "metadata": {},
   "outputs": [],
   "source": [
    "class MyDataset(Dataset):\n",
    "    def __init__(self, df):\n",
    "        self.df = df\n",
    "\n",
    "    def __len__(self):\n",
    "        return len(self.df)\n",
    "\n",
    "    def __getitem__(self, idx):\n",
    "        text = self.df.iloc[idx, 0]\n",
    "        label = self.df.iloc[idx, 1]\n",
    "        return text, label"
   ]
  },
  {
   "cell_type": "code",
   "execution_count": 8,
   "id": "e138c93c",
   "metadata": {},
   "outputs": [],
   "source": [
    "train_dataset = MyDataset(train_df)\n",
    "test_dataset = MyDataset(test_df)"
   ]
  },
  {
   "cell_type": "code",
   "execution_count": 9,
   "id": "e9a19c06",
   "metadata": {},
   "outputs": [],
   "source": [
    "train_dataloader = DataLoader(train_dataset, batch_size=4, shuffle=True, num_workers=0)\n",
    "test_dataloader = DataLoader(test_dataset, batch_size=4, shuffle=True, num_workers=0)"
   ]
  },
  {
   "cell_type": "code",
   "execution_count": 10,
   "id": "ac7b61ae",
   "metadata": {},
   "outputs": [
    {
     "data": {
      "text/plain": [
       "BertForSequenceClassification(\n",
       "  (bert): BertModel(\n",
       "    (embeddings): BertEmbeddings(\n",
       "      (word_embeddings): Embedding(119547, 768, padding_idx=0)\n",
       "      (position_embeddings): Embedding(512, 768)\n",
       "      (token_type_embeddings): Embedding(2, 768)\n",
       "      (LayerNorm): LayerNorm((768,), eps=1e-12, elementwise_affine=True)\n",
       "      (dropout): Dropout(p=0.1, inplace=False)\n",
       "    )\n",
       "    (encoder): BertEncoder(\n",
       "      (layer): ModuleList(\n",
       "        (0): BertLayer(\n",
       "          (attention): BertAttention(\n",
       "            (self): BertSelfAttention(\n",
       "              (query): Linear(in_features=768, out_features=768, bias=True)\n",
       "              (key): Linear(in_features=768, out_features=768, bias=True)\n",
       "              (value): Linear(in_features=768, out_features=768, bias=True)\n",
       "              (dropout): Dropout(p=0.1, inplace=False)\n",
       "            )\n",
       "            (output): BertSelfOutput(\n",
       "              (dense): Linear(in_features=768, out_features=768, bias=True)\n",
       "              (LayerNorm): LayerNorm((768,), eps=1e-12, elementwise_affine=True)\n",
       "              (dropout): Dropout(p=0.1, inplace=False)\n",
       "            )\n",
       "          )\n",
       "          (intermediate): BertIntermediate(\n",
       "            (dense): Linear(in_features=768, out_features=3072, bias=True)\n",
       "            (intermediate_act_fn): GELUActivation()\n",
       "          )\n",
       "          (output): BertOutput(\n",
       "            (dense): Linear(in_features=3072, out_features=768, bias=True)\n",
       "            (LayerNorm): LayerNorm((768,), eps=1e-12, elementwise_affine=True)\n",
       "            (dropout): Dropout(p=0.1, inplace=False)\n",
       "          )\n",
       "        )\n",
       "        (1): BertLayer(\n",
       "          (attention): BertAttention(\n",
       "            (self): BertSelfAttention(\n",
       "              (query): Linear(in_features=768, out_features=768, bias=True)\n",
       "              (key): Linear(in_features=768, out_features=768, bias=True)\n",
       "              (value): Linear(in_features=768, out_features=768, bias=True)\n",
       "              (dropout): Dropout(p=0.1, inplace=False)\n",
       "            )\n",
       "            (output): BertSelfOutput(\n",
       "              (dense): Linear(in_features=768, out_features=768, bias=True)\n",
       "              (LayerNorm): LayerNorm((768,), eps=1e-12, elementwise_affine=True)\n",
       "              (dropout): Dropout(p=0.1, inplace=False)\n",
       "            )\n",
       "          )\n",
       "          (intermediate): BertIntermediate(\n",
       "            (dense): Linear(in_features=768, out_features=3072, bias=True)\n",
       "            (intermediate_act_fn): GELUActivation()\n",
       "          )\n",
       "          (output): BertOutput(\n",
       "            (dense): Linear(in_features=3072, out_features=768, bias=True)\n",
       "            (LayerNorm): LayerNorm((768,), eps=1e-12, elementwise_affine=True)\n",
       "            (dropout): Dropout(p=0.1, inplace=False)\n",
       "          )\n",
       "        )\n",
       "        (2): BertLayer(\n",
       "          (attention): BertAttention(\n",
       "            (self): BertSelfAttention(\n",
       "              (query): Linear(in_features=768, out_features=768, bias=True)\n",
       "              (key): Linear(in_features=768, out_features=768, bias=True)\n",
       "              (value): Linear(in_features=768, out_features=768, bias=True)\n",
       "              (dropout): Dropout(p=0.1, inplace=False)\n",
       "            )\n",
       "            (output): BertSelfOutput(\n",
       "              (dense): Linear(in_features=768, out_features=768, bias=True)\n",
       "              (LayerNorm): LayerNorm((768,), eps=1e-12, elementwise_affine=True)\n",
       "              (dropout): Dropout(p=0.1, inplace=False)\n",
       "            )\n",
       "          )\n",
       "          (intermediate): BertIntermediate(\n",
       "            (dense): Linear(in_features=768, out_features=3072, bias=True)\n",
       "            (intermediate_act_fn): GELUActivation()\n",
       "          )\n",
       "          (output): BertOutput(\n",
       "            (dense): Linear(in_features=3072, out_features=768, bias=True)\n",
       "            (LayerNorm): LayerNorm((768,), eps=1e-12, elementwise_affine=True)\n",
       "            (dropout): Dropout(p=0.1, inplace=False)\n",
       "          )\n",
       "        )\n",
       "        (3): BertLayer(\n",
       "          (attention): BertAttention(\n",
       "            (self): BertSelfAttention(\n",
       "              (query): Linear(in_features=768, out_features=768, bias=True)\n",
       "              (key): Linear(in_features=768, out_features=768, bias=True)\n",
       "              (value): Linear(in_features=768, out_features=768, bias=True)\n",
       "              (dropout): Dropout(p=0.1, inplace=False)\n",
       "            )\n",
       "            (output): BertSelfOutput(\n",
       "              (dense): Linear(in_features=768, out_features=768, bias=True)\n",
       "              (LayerNorm): LayerNorm((768,), eps=1e-12, elementwise_affine=True)\n",
       "              (dropout): Dropout(p=0.1, inplace=False)\n",
       "            )\n",
       "          )\n",
       "          (intermediate): BertIntermediate(\n",
       "            (dense): Linear(in_features=768, out_features=3072, bias=True)\n",
       "            (intermediate_act_fn): GELUActivation()\n",
       "          )\n",
       "          (output): BertOutput(\n",
       "            (dense): Linear(in_features=3072, out_features=768, bias=True)\n",
       "            (LayerNorm): LayerNorm((768,), eps=1e-12, elementwise_affine=True)\n",
       "            (dropout): Dropout(p=0.1, inplace=False)\n",
       "          )\n",
       "        )\n",
       "        (4): BertLayer(\n",
       "          (attention): BertAttention(\n",
       "            (self): BertSelfAttention(\n",
       "              (query): Linear(in_features=768, out_features=768, bias=True)\n",
       "              (key): Linear(in_features=768, out_features=768, bias=True)\n",
       "              (value): Linear(in_features=768, out_features=768, bias=True)\n",
       "              (dropout): Dropout(p=0.1, inplace=False)\n",
       "            )\n",
       "            (output): BertSelfOutput(\n",
       "              (dense): Linear(in_features=768, out_features=768, bias=True)\n",
       "              (LayerNorm): LayerNorm((768,), eps=1e-12, elementwise_affine=True)\n",
       "              (dropout): Dropout(p=0.1, inplace=False)\n",
       "            )\n",
       "          )\n",
       "          (intermediate): BertIntermediate(\n",
       "            (dense): Linear(in_features=768, out_features=3072, bias=True)\n",
       "            (intermediate_act_fn): GELUActivation()\n",
       "          )\n",
       "          (output): BertOutput(\n",
       "            (dense): Linear(in_features=3072, out_features=768, bias=True)\n",
       "            (LayerNorm): LayerNorm((768,), eps=1e-12, elementwise_affine=True)\n",
       "            (dropout): Dropout(p=0.1, inplace=False)\n",
       "          )\n",
       "        )\n",
       "        (5): BertLayer(\n",
       "          (attention): BertAttention(\n",
       "            (self): BertSelfAttention(\n",
       "              (query): Linear(in_features=768, out_features=768, bias=True)\n",
       "              (key): Linear(in_features=768, out_features=768, bias=True)\n",
       "              (value): Linear(in_features=768, out_features=768, bias=True)\n",
       "              (dropout): Dropout(p=0.1, inplace=False)\n",
       "            )\n",
       "            (output): BertSelfOutput(\n",
       "              (dense): Linear(in_features=768, out_features=768, bias=True)\n",
       "              (LayerNorm): LayerNorm((768,), eps=1e-12, elementwise_affine=True)\n",
       "              (dropout): Dropout(p=0.1, inplace=False)\n",
       "            )\n",
       "          )\n",
       "          (intermediate): BertIntermediate(\n",
       "            (dense): Linear(in_features=768, out_features=3072, bias=True)\n",
       "            (intermediate_act_fn): GELUActivation()\n",
       "          )\n",
       "          (output): BertOutput(\n",
       "            (dense): Linear(in_features=3072, out_features=768, bias=True)\n",
       "            (LayerNorm): LayerNorm((768,), eps=1e-12, elementwise_affine=True)\n",
       "            (dropout): Dropout(p=0.1, inplace=False)\n",
       "          )\n",
       "        )\n",
       "        (6): BertLayer(\n",
       "          (attention): BertAttention(\n",
       "            (self): BertSelfAttention(\n",
       "              (query): Linear(in_features=768, out_features=768, bias=True)\n",
       "              (key): Linear(in_features=768, out_features=768, bias=True)\n",
       "              (value): Linear(in_features=768, out_features=768, bias=True)\n",
       "              (dropout): Dropout(p=0.1, inplace=False)\n",
       "            )\n",
       "            (output): BertSelfOutput(\n",
       "              (dense): Linear(in_features=768, out_features=768, bias=True)\n",
       "              (LayerNorm): LayerNorm((768,), eps=1e-12, elementwise_affine=True)\n",
       "              (dropout): Dropout(p=0.1, inplace=False)\n",
       "            )\n",
       "          )\n",
       "          (intermediate): BertIntermediate(\n",
       "            (dense): Linear(in_features=768, out_features=3072, bias=True)\n",
       "            (intermediate_act_fn): GELUActivation()\n",
       "          )\n",
       "          (output): BertOutput(\n",
       "            (dense): Linear(in_features=3072, out_features=768, bias=True)\n",
       "            (LayerNorm): LayerNorm((768,), eps=1e-12, elementwise_affine=True)\n",
       "            (dropout): Dropout(p=0.1, inplace=False)\n",
       "          )\n",
       "        )\n",
       "        (7): BertLayer(\n",
       "          (attention): BertAttention(\n",
       "            (self): BertSelfAttention(\n",
       "              (query): Linear(in_features=768, out_features=768, bias=True)\n",
       "              (key): Linear(in_features=768, out_features=768, bias=True)\n",
       "              (value): Linear(in_features=768, out_features=768, bias=True)\n",
       "              (dropout): Dropout(p=0.1, inplace=False)\n",
       "            )\n",
       "            (output): BertSelfOutput(\n",
       "              (dense): Linear(in_features=768, out_features=768, bias=True)\n",
       "              (LayerNorm): LayerNorm((768,), eps=1e-12, elementwise_affine=True)\n",
       "              (dropout): Dropout(p=0.1, inplace=False)\n",
       "            )\n",
       "          )\n",
       "          (intermediate): BertIntermediate(\n",
       "            (dense): Linear(in_features=768, out_features=3072, bias=True)\n",
       "            (intermediate_act_fn): GELUActivation()\n",
       "          )\n",
       "          (output): BertOutput(\n",
       "            (dense): Linear(in_features=3072, out_features=768, bias=True)\n",
       "            (LayerNorm): LayerNorm((768,), eps=1e-12, elementwise_affine=True)\n",
       "            (dropout): Dropout(p=0.1, inplace=False)\n",
       "          )\n",
       "        )\n",
       "        (8): BertLayer(\n",
       "          (attention): BertAttention(\n",
       "            (self): BertSelfAttention(\n",
       "              (query): Linear(in_features=768, out_features=768, bias=True)\n",
       "              (key): Linear(in_features=768, out_features=768, bias=True)\n",
       "              (value): Linear(in_features=768, out_features=768, bias=True)\n",
       "              (dropout): Dropout(p=0.1, inplace=False)\n",
       "            )\n",
       "            (output): BertSelfOutput(\n",
       "              (dense): Linear(in_features=768, out_features=768, bias=True)\n",
       "              (LayerNorm): LayerNorm((768,), eps=1e-12, elementwise_affine=True)\n",
       "              (dropout): Dropout(p=0.1, inplace=False)\n",
       "            )\n",
       "          )\n",
       "          (intermediate): BertIntermediate(\n",
       "            (dense): Linear(in_features=768, out_features=3072, bias=True)\n",
       "            (intermediate_act_fn): GELUActivation()\n",
       "          )\n",
       "          (output): BertOutput(\n",
       "            (dense): Linear(in_features=3072, out_features=768, bias=True)\n",
       "            (LayerNorm): LayerNorm((768,), eps=1e-12, elementwise_affine=True)\n",
       "            (dropout): Dropout(p=0.1, inplace=False)\n",
       "          )\n",
       "        )\n",
       "        (9): BertLayer(\n",
       "          (attention): BertAttention(\n",
       "            (self): BertSelfAttention(\n",
       "              (query): Linear(in_features=768, out_features=768, bias=True)\n",
       "              (key): Linear(in_features=768, out_features=768, bias=True)\n",
       "              (value): Linear(in_features=768, out_features=768, bias=True)\n",
       "              (dropout): Dropout(p=0.1, inplace=False)\n",
       "            )\n",
       "            (output): BertSelfOutput(\n",
       "              (dense): Linear(in_features=768, out_features=768, bias=True)\n",
       "              (LayerNorm): LayerNorm((768,), eps=1e-12, elementwise_affine=True)\n",
       "              (dropout): Dropout(p=0.1, inplace=False)\n",
       "            )\n",
       "          )\n",
       "          (intermediate): BertIntermediate(\n",
       "            (dense): Linear(in_features=768, out_features=3072, bias=True)\n",
       "            (intermediate_act_fn): GELUActivation()\n",
       "          )\n",
       "          (output): BertOutput(\n",
       "            (dense): Linear(in_features=3072, out_features=768, bias=True)\n",
       "            (LayerNorm): LayerNorm((768,), eps=1e-12, elementwise_affine=True)\n",
       "            (dropout): Dropout(p=0.1, inplace=False)\n",
       "          )\n",
       "        )\n",
       "        (10): BertLayer(\n",
       "          (attention): BertAttention(\n",
       "            (self): BertSelfAttention(\n",
       "              (query): Linear(in_features=768, out_features=768, bias=True)\n",
       "              (key): Linear(in_features=768, out_features=768, bias=True)\n",
       "              (value): Linear(in_features=768, out_features=768, bias=True)\n",
       "              (dropout): Dropout(p=0.1, inplace=False)\n",
       "            )\n",
       "            (output): BertSelfOutput(\n",
       "              (dense): Linear(in_features=768, out_features=768, bias=True)\n",
       "              (LayerNorm): LayerNorm((768,), eps=1e-12, elementwise_affine=True)\n",
       "              (dropout): Dropout(p=0.1, inplace=False)\n",
       "            )\n",
       "          )\n",
       "          (intermediate): BertIntermediate(\n",
       "            (dense): Linear(in_features=768, out_features=3072, bias=True)\n",
       "            (intermediate_act_fn): GELUActivation()\n",
       "          )\n",
       "          (output): BertOutput(\n",
       "            (dense): Linear(in_features=3072, out_features=768, bias=True)\n",
       "            (LayerNorm): LayerNorm((768,), eps=1e-12, elementwise_affine=True)\n",
       "            (dropout): Dropout(p=0.1, inplace=False)\n",
       "          )\n",
       "        )\n",
       "        (11): BertLayer(\n",
       "          (attention): BertAttention(\n",
       "            (self): BertSelfAttention(\n",
       "              (query): Linear(in_features=768, out_features=768, bias=True)\n",
       "              (key): Linear(in_features=768, out_features=768, bias=True)\n",
       "              (value): Linear(in_features=768, out_features=768, bias=True)\n",
       "              (dropout): Dropout(p=0.1, inplace=False)\n",
       "            )\n",
       "            (output): BertSelfOutput(\n",
       "              (dense): Linear(in_features=768, out_features=768, bias=True)\n",
       "              (LayerNorm): LayerNorm((768,), eps=1e-12, elementwise_affine=True)\n",
       "              (dropout): Dropout(p=0.1, inplace=False)\n",
       "            )\n",
       "          )\n",
       "          (intermediate): BertIntermediate(\n",
       "            (dense): Linear(in_features=768, out_features=3072, bias=True)\n",
       "            (intermediate_act_fn): GELUActivation()\n",
       "          )\n",
       "          (output): BertOutput(\n",
       "            (dense): Linear(in_features=3072, out_features=768, bias=True)\n",
       "            (LayerNorm): LayerNorm((768,), eps=1e-12, elementwise_affine=True)\n",
       "            (dropout): Dropout(p=0.1, inplace=False)\n",
       "          )\n",
       "        )\n",
       "      )\n",
       "    )\n",
       "    (pooler): BertPooler(\n",
       "      (dense): Linear(in_features=768, out_features=768, bias=True)\n",
       "      (activation): Tanh()\n",
       "    )\n",
       "  )\n",
       "  (dropout): Dropout(p=0.1, inplace=False)\n",
       "  (classifier): Linear(in_features=768, out_features=8, bias=True)\n",
       ")"
      ]
     },
     "execution_count": 10,
     "metadata": {},
     "output_type": "execute_result"
    }
   ],
   "source": [
    "device = torch.device(\"cuda:0\")\n",
    "model.to(device)"
   ]
  },
  {
   "cell_type": "code",
   "execution_count": 11,
   "id": "7442f263",
   "metadata": {},
   "outputs": [],
   "source": [
    "optimizer = Adam(model.parameters(), lr=1e-5)\n",
    "itr = 1\n",
    "p_itr = 1000\n",
    "epochs = 5\n",
    "total_loss = 0\n",
    "total_len = 0\n",
    "total_correct = 0\n",
    "MAX_LEN=128"
   ]
  },
  {
   "cell_type": "code",
   "execution_count": 12,
   "id": "157d5abf",
   "metadata": {},
   "outputs": [],
   "source": [
    "#print('Tokenized: ', tokenizer.tokenize(data['발화문'][0]))\n",
    "#  print(train_dataset.__getitem__(2))\n",
    "# #for text, label in tqdm(enumerate(train_loader), total=len(train_loader)):\n",
    "# for text,label in train_loader:\n",
    "#      print(text)\n",
    "#      print(label)"
   ]
  },
  {
   "cell_type": "code",
   "execution_count": null,
   "id": "c9426809",
   "metadata": {},
   "outputs": [
    {
     "name": "stdout",
     "output_type": "stream",
     "text": [
      "| ID | GPU | MEM |\n",
      "------------------\n",
      "|  0 | 36% | 14% |\n"
     ]
    },
    {
     "data": {
      "application/vnd.jupyter.widget-view+json": {
       "model_id": "b3975a3815394c9f9fe8938de35d3cc9",
       "version_major": 2,
       "version_minor": 0
      },
      "text/plain": [
       "  0%|          | 0/18420 [00:00<?, ?it/s]"
      ]
     },
     "metadata": {},
     "output_type": "display_data"
    },
    {
     "name": "stderr",
     "output_type": "stream",
     "text": [
      "Truncation was not explicitly activated but `max_length` is provided a specific value, please use `truncation=True` to explicitly truncate examples to max length. Defaulting to 'longest_first' truncation strategy. If you encode pairs of sequences (GLUE-style) with the tokenizer you can select this strategy more precisely by providing a specific strategy to `truncation`.\n",
      "C:\\Users\\green\\anaconda3\\envs\\cp\\lib\\site-packages\\transformers\\tokenization_utils_base.py:2285: FutureWarning: The `pad_to_max_length` argument is deprecated and will be removed in a future version, use `padding=True` or `padding='longest'` to pad to the longest sequence in the batch, or use `padding='max_length'` to pad to a max length. In this case, you can give a specific length with `max_length` (e.g. `max_length=45`) or leave max_length to None to pad to the maximal input size of the model (e.g. 512 for Bert).\n",
      "  warnings.warn(\n",
      "C:\\Users\\green\\AppData\\Local\\Temp\\ipykernel_16872\\2751406595.py:17: UserWarning: To copy construct from a tensor, it is recommended to use sourceTensor.clone().detach() or sourceTensor.clone().detach().requires_grad_(True), rather than torch.tensor(sourceTensor).\n",
      "  labels = torch.tensor(label)\n",
      "C:\\Users\\green\\AppData\\Local\\Temp\\ipykernel_16872\\2751406595.py:19: UserWarning: To copy construct from a tensor, it is recommended to use sourceTensor.clone().detach() or sourceTensor.clone().detach().requires_grad_(True), rather than torch.tensor(sourceTensor).\n",
      "  labels = torch.tensor(label)\n"
     ]
    },
    {
     "name": "stdout",
     "output_type": "stream",
     "text": [
      "[Epoch 1/5] Iteration 1000 -> Train Loss: 1.8372, Accuracy: 0.333\n",
      "[Epoch 1/5] Iteration 2000 -> Train Loss: 1.6386, Accuracy: 0.406\n",
      "[Epoch 1/5] Iteration 3000 -> Train Loss: 1.4817, Accuracy: 0.467\n",
      "[Epoch 1/5] Iteration 4000 -> Train Loss: 1.4074, Accuracy: 0.506\n",
      "[Epoch 1/5] Iteration 5000 -> Train Loss: 1.3558, Accuracy: 0.525\n",
      "[Epoch 1/5] Iteration 6000 -> Train Loss: 1.3439, Accuracy: 0.526\n",
      "[Epoch 1/5] Iteration 7000 -> Train Loss: 1.2942, Accuracy: 0.545\n",
      "[Epoch 1/5] Iteration 8000 -> Train Loss: 1.2869, Accuracy: 0.539\n",
      "[Epoch 1/5] Iteration 9000 -> Train Loss: 1.2686, Accuracy: 0.555\n",
      "[Epoch 1/5] Iteration 10000 -> Train Loss: 1.2623, Accuracy: 0.548\n",
      "[Epoch 1/5] Iteration 11000 -> Train Loss: 1.2573, Accuracy: 0.560\n",
      "[Epoch 1/5] Iteration 12000 -> Train Loss: 1.2097, Accuracy: 0.577\n",
      "[Epoch 1/5] Iteration 13000 -> Train Loss: 1.1942, Accuracy: 0.576\n",
      "[Epoch 1/5] Iteration 14000 -> Train Loss: 1.2281, Accuracy: 0.564\n",
      "[Epoch 1/5] Iteration 15000 -> Train Loss: 1.2142, Accuracy: 0.573\n",
      "[Epoch 1/5] Iteration 16000 -> Train Loss: 1.1795, Accuracy: 0.588\n",
      "[Epoch 1/5] Iteration 17000 -> Train Loss: 1.2031, Accuracy: 0.574\n",
      "[Epoch 1/5] Iteration 18000 -> Train Loss: 1.1729, Accuracy: 0.584\n"
     ]
    },
    {
     "data": {
      "application/vnd.jupyter.widget-view+json": {
       "model_id": "202040dea56f4436af247f3df21159b0",
       "version_major": 2,
       "version_minor": 0
      },
      "text/plain": [
       "  0%|          | 0/4606 [00:00<?, ?it/s]"
      ]
     },
     "metadata": {},
     "output_type": "display_data"
    },
    {
     "name": "stderr",
     "output_type": "stream",
     "text": [
      "C:\\Users\\green\\AppData\\Local\\Temp\\ipykernel_16872\\2751406595.py:47: UserWarning: To copy construct from a tensor, it is recommended to use sourceTensor.clone().detach() or sourceTensor.clone().detach().requires_grad_(True), rather than torch.tensor(sourceTensor).\n",
      "  labels = torch.tensor(label)\n",
      "C:\\Users\\green\\AppData\\Local\\Temp\\ipykernel_16872\\2751406595.py:49: UserWarning: To copy construct from a tensor, it is recommended to use sourceTensor.clone().detach() or sourceTensor.clone().detach().requires_grad_(True), rather than torch.tensor(sourceTensor).\n",
      "  labels = torch.tensor(label)\n"
     ]
    },
    {
     "name": "stdout",
     "output_type": "stream",
     "text": [
      "epoch 1 test acc 0.5877531078660225\n",
      "| ID | GPU | MEM |\n",
      "------------------\n",
      "|  0 | 61% | 50% |\n"
     ]
    },
    {
     "data": {
      "application/vnd.jupyter.widget-view+json": {
       "model_id": "888e896a9a2e4ad482842c21ba6e3002",
       "version_major": 2,
       "version_minor": 0
      },
      "text/plain": [
       "  0%|          | 0/18420 [00:00<?, ?it/s]"
      ]
     },
     "metadata": {},
     "output_type": "display_data"
    },
    {
     "name": "stdout",
     "output_type": "stream",
     "text": [
      "[Epoch 2/5] Iteration 19000 -> Train Loss: 1.1500, Accuracy: 0.611\n",
      "[Epoch 2/5] Iteration 20000 -> Train Loss: 1.1022, Accuracy: 0.609\n",
      "[Epoch 2/5] Iteration 21000 -> Train Loss: 1.1009, Accuracy: 0.608\n",
      "[Epoch 2/5] Iteration 22000 -> Train Loss: 1.0965, Accuracy: 0.610\n",
      "[Epoch 2/5] Iteration 23000 -> Train Loss: 1.0819, Accuracy: 0.613\n",
      "[Epoch 2/5] Iteration 24000 -> Train Loss: 1.1036, Accuracy: 0.609\n",
      "[Epoch 2/5] Iteration 25000 -> Train Loss: 1.1127, Accuracy: 0.605\n",
      "[Epoch 2/5] Iteration 26000 -> Train Loss: 1.0947, Accuracy: 0.617\n",
      "[Epoch 2/5] Iteration 27000 -> Train Loss: 1.0702, Accuracy: 0.630\n",
      "[Epoch 2/5] Iteration 28000 -> Train Loss: 1.0757, Accuracy: 0.620\n",
      "[Epoch 2/5] Iteration 29000 -> Train Loss: 1.0908, Accuracy: 0.605\n",
      "[Epoch 2/5] Iteration 30000 -> Train Loss: 1.0875, Accuracy: 0.613\n",
      "[Epoch 2/5] Iteration 31000 -> Train Loss: 1.0664, Accuracy: 0.619\n",
      "[Epoch 2/5] Iteration 32000 -> Train Loss: 1.0714, Accuracy: 0.625\n",
      "[Epoch 2/5] Iteration 33000 -> Train Loss: 1.1018, Accuracy: 0.610\n",
      "[Epoch 2/5] Iteration 34000 -> Train Loss: 1.0816, Accuracy: 0.603\n",
      "[Epoch 2/5] Iteration 35000 -> Train Loss: 1.0783, Accuracy: 0.614\n",
      "[Epoch 2/5] Iteration 36000 -> Train Loss: 1.1149, Accuracy: 0.604\n"
     ]
    },
    {
     "data": {
      "application/vnd.jupyter.widget-view+json": {
       "model_id": "60d179b2f6e7441e96fd7e29267d6c53",
       "version_major": 2,
       "version_minor": 0
      },
      "text/plain": [
       "  0%|          | 0/4606 [00:00<?, ?it/s]"
      ]
     },
     "metadata": {},
     "output_type": "display_data"
    },
    {
     "name": "stdout",
     "output_type": "stream",
     "text": [
      "epoch 2 test acc 0.6075131643233267\n",
      "| ID | GPU | MEM |\n",
      "------------------\n",
      "|  0 | 64% | 50% |\n"
     ]
    },
    {
     "data": {
      "application/vnd.jupyter.widget-view+json": {
       "model_id": "10f50c35579543729fa17d265ee6ce39",
       "version_major": 2,
       "version_minor": 0
      },
      "text/plain": [
       "  0%|          | 0/18420 [00:00<?, ?it/s]"
      ]
     },
     "metadata": {},
     "output_type": "display_data"
    },
    {
     "name": "stdout",
     "output_type": "stream",
     "text": [
      "[Epoch 3/5] Iteration 37000 -> Train Loss: 1.0483, Accuracy: 0.652\n",
      "[Epoch 3/5] Iteration 38000 -> Train Loss: 0.9433, Accuracy: 0.662\n",
      "[Epoch 3/5] Iteration 39000 -> Train Loss: 0.9695, Accuracy: 0.646\n",
      "[Epoch 3/5] Iteration 40000 -> Train Loss: 0.9764, Accuracy: 0.652\n",
      "[Epoch 3/5] Iteration 41000 -> Train Loss: 1.0248, Accuracy: 0.638\n",
      "[Epoch 3/5] Iteration 42000 -> Train Loss: 0.9429, Accuracy: 0.656\n",
      "[Epoch 3/5] Iteration 43000 -> Train Loss: 0.9670, Accuracy: 0.651\n",
      "[Epoch 3/5] Iteration 44000 -> Train Loss: 1.0083, Accuracy: 0.639\n",
      "[Epoch 3/5] Iteration 45000 -> Train Loss: 0.9729, Accuracy: 0.659\n",
      "[Epoch 3/5] Iteration 46000 -> Train Loss: 0.9965, Accuracy: 0.647\n",
      "[Epoch 3/5] Iteration 47000 -> Train Loss: 0.9724, Accuracy: 0.657\n",
      "[Epoch 3/5] Iteration 48000 -> Train Loss: 0.9614, Accuracy: 0.663\n",
      "[Epoch 3/5] Iteration 49000 -> Train Loss: 0.9981, Accuracy: 0.648\n",
      "[Epoch 3/5] Iteration 50000 -> Train Loss: 0.9951, Accuracy: 0.639\n",
      "[Epoch 3/5] Iteration 51000 -> Train Loss: 0.9909, Accuracy: 0.649\n",
      "[Epoch 3/5] Iteration 52000 -> Train Loss: 0.9576, Accuracy: 0.666\n",
      "[Epoch 3/5] Iteration 53000 -> Train Loss: 0.9807, Accuracy: 0.653\n",
      "[Epoch 3/5] Iteration 54000 -> Train Loss: 0.9888, Accuracy: 0.651\n",
      "[Epoch 3/5] Iteration 55000 -> Train Loss: 0.9956, Accuracy: 0.644\n"
     ]
    },
    {
     "data": {
      "application/vnd.jupyter.widget-view+json": {
       "model_id": "0b5246826eb34d3f9050588650283252",
       "version_major": 2,
       "version_minor": 0
      },
      "text/plain": [
       "  0%|          | 0/4606 [00:00<?, ?it/s]"
      ]
     },
     "metadata": {},
     "output_type": "display_data"
    },
    {
     "name": "stdout",
     "output_type": "stream",
     "text": [
      "epoch 3 test acc 0.6179360512458607\n",
      "| ID | GPU | MEM |\n",
      "------------------\n",
      "|  0 | 61% | 50% |\n"
     ]
    },
    {
     "data": {
      "application/vnd.jupyter.widget-view+json": {
       "model_id": "f4301ac96ef841929563fc667db7038a",
       "version_major": 2,
       "version_minor": 0
      },
      "text/plain": [
       "  0%|          | 0/18420 [00:00<?, ?it/s]"
      ]
     },
     "metadata": {},
     "output_type": "display_data"
    },
    {
     "name": "stdout",
     "output_type": "stream",
     "text": [
      "[Epoch 4/5] Iteration 56000 -> Train Loss: 0.8685, Accuracy: 0.710\n",
      "[Epoch 4/5] Iteration 57000 -> Train Loss: 0.8711, Accuracy: 0.690\n",
      "[Epoch 4/5] Iteration 58000 -> Train Loss: 0.8600, Accuracy: 0.697\n",
      "[Epoch 4/5] Iteration 59000 -> Train Loss: 0.8424, Accuracy: 0.704\n",
      "[Epoch 4/5] Iteration 60000 -> Train Loss: 0.8447, Accuracy: 0.701\n",
      "[Epoch 4/5] Iteration 61000 -> Train Loss: 0.8492, Accuracy: 0.699\n",
      "[Epoch 4/5] Iteration 62000 -> Train Loss: 0.8465, Accuracy: 0.698\n",
      "[Epoch 4/5] Iteration 63000 -> Train Loss: 0.8735, Accuracy: 0.689\n",
      "[Epoch 4/5] Iteration 64000 -> Train Loss: 0.8637, Accuracy: 0.690\n",
      "[Epoch 4/5] Iteration 65000 -> Train Loss: 0.8579, Accuracy: 0.691\n",
      "[Epoch 4/5] Iteration 66000 -> Train Loss: 0.8729, Accuracy: 0.683\n",
      "[Epoch 4/5] Iteration 67000 -> Train Loss: 0.8743, Accuracy: 0.688\n",
      "[Epoch 4/5] Iteration 68000 -> Train Loss: 0.8652, Accuracy: 0.689\n",
      "[Epoch 4/5] Iteration 69000 -> Train Loss: 0.8821, Accuracy: 0.681\n",
      "[Epoch 4/5] Iteration 70000 -> Train Loss: 0.8705, Accuracy: 0.691\n",
      "[Epoch 4/5] Iteration 71000 -> Train Loss: 0.9029, Accuracy: 0.677\n",
      "[Epoch 4/5] Iteration 72000 -> Train Loss: 0.8701, Accuracy: 0.685\n",
      "[Epoch 4/5] Iteration 73000 -> Train Loss: 0.9111, Accuracy: 0.673\n"
     ]
    },
    {
     "data": {
      "application/vnd.jupyter.widget-view+json": {
       "model_id": "c75a5a44f8e84b6da66263e260feb3b8",
       "version_major": 2,
       "version_minor": 0
      },
      "text/plain": [
       "  0%|          | 0/4606 [00:00<?, ?it/s]"
      ]
     },
     "metadata": {},
     "output_type": "display_data"
    },
    {
     "name": "stdout",
     "output_type": "stream",
     "text": [
      "epoch 4 test acc 0.6215189186254818\n",
      "| ID | GPU | MEM |\n",
      "------------------\n",
      "|  0 | 47% | 50% |\n"
     ]
    },
    {
     "data": {
      "application/vnd.jupyter.widget-view+json": {
       "model_id": "5cc4c866537b4a6391fcf32758d3c464",
       "version_major": 2,
       "version_minor": 0
      },
      "text/plain": [
       "  0%|          | 0/18420 [00:00<?, ?it/s]"
      ]
     },
     "metadata": {},
     "output_type": "display_data"
    },
    {
     "name": "stdout",
     "output_type": "stream",
     "text": [
      "[Epoch 5/5] Iteration 74000 -> Train Loss: 0.8639, Accuracy: 0.745\n",
      "[Epoch 5/5] Iteration 75000 -> Train Loss: 0.7464, Accuracy: 0.728\n",
      "[Epoch 5/5] Iteration 76000 -> Train Loss: 0.7572, Accuracy: 0.727\n",
      "[Epoch 5/5] Iteration 77000 -> Train Loss: 0.7518, Accuracy: 0.732\n",
      "[Epoch 5/5] Iteration 78000 -> Train Loss: 0.7559, Accuracy: 0.731\n",
      "[Epoch 5/5] Iteration 79000 -> Train Loss: 0.7602, Accuracy: 0.736\n",
      "[Epoch 5/5] Iteration 80000 -> Train Loss: 0.7563, Accuracy: 0.731\n",
      "[Epoch 5/5] Iteration 81000 -> Train Loss: 0.7595, Accuracy: 0.726\n",
      "[Epoch 5/5] Iteration 82000 -> Train Loss: 0.7631, Accuracy: 0.732\n",
      "[Epoch 5/5] Iteration 83000 -> Train Loss: 0.7543, Accuracy: 0.726\n",
      "[Epoch 5/5] Iteration 84000 -> Train Loss: 0.7665, Accuracy: 0.731\n",
      "[Epoch 5/5] Iteration 85000 -> Train Loss: 0.7795, Accuracy: 0.723\n",
      "[Epoch 5/5] Iteration 86000 -> Train Loss: 0.7851, Accuracy: 0.727\n",
      "[Epoch 5/5] Iteration 87000 -> Train Loss: 0.7702, Accuracy: 0.723\n",
      "[Epoch 5/5] Iteration 88000 -> Train Loss: 0.7898, Accuracy: 0.718\n",
      "[Epoch 5/5] Iteration 89000 -> Train Loss: 0.7652, Accuracy: 0.732\n",
      "[Epoch 5/5] Iteration 90000 -> Train Loss: 0.7795, Accuracy: 0.721\n",
      "[Epoch 5/5] Iteration 91000 -> Train Loss: 0.7654, Accuracy: 0.721\n",
      "[Epoch 5/5] Iteration 92000 -> Train Loss: 0.7821, Accuracy: 0.723\n"
     ]
    },
    {
     "data": {
      "application/vnd.jupyter.widget-view+json": {
       "model_id": "8958fed6e5cb4abbb3a4679cc87352d5",
       "version_major": 2,
       "version_minor": 0
      },
      "text/plain": [
       "  0%|          | 0/4606 [00:00<?, ?it/s]"
      ]
     },
     "metadata": {},
     "output_type": "display_data"
    }
   ],
   "source": [
    "seed_val = 42\n",
    "random.seed(seed_val)\n",
    "np.random.seed(seed_val)\n",
    "torch.manual_seed(seed_val)\n",
    "torch.cuda.manual_seed_all(seed_val)\n",
    "\n",
    "for epoch in range(epochs):\n",
    "    GPUtil.showUtilization()\n",
    "    model.train()\n",
    "    for batch_id, (text, label) in tqdm(enumerate(train_dataloader), total=len(train_dataloader)):\n",
    "        optimizer.zero_grad()\n",
    "        model.zero_grad()\n",
    "        # encoding and zero padding\n",
    "        encoded_list = [tokenizer.encode(t, add_special_tokens=True, max_length=MAX_LEN, pad_to_max_length=True) for t in text]\n",
    "        #padded_list =  [e + [0] * (512-len(e)) for e in encoded_list]\n",
    "        sample = torch.tensor(encoded_list)\n",
    "        labels = torch.tensor(label)\n",
    "        sample, label = sample.to(device), label.to(device)\n",
    "        labels = torch.tensor(label)\n",
    "        outputs = model(sample, labels=labels)\n",
    "        #loss, logits = outputs\n",
    "        loss = outputs[0]\n",
    "        logits = outputs[1]\n",
    "\n",
    "\n",
    "        pred = torch.argmax(F.softmax(logits, dim=1), dim=1)\n",
    "        correct = pred.eq(labels)\n",
    "        total_correct += correct.sum().item()\n",
    "        total_len += len(labels)\n",
    "        total_loss += loss.item()\n",
    "        loss.backward()\n",
    "        optimizer.step()\n",
    "        if itr % p_itr == 0:\n",
    "            print('[Epoch {}/{}] Iteration {} -> Train Loss: {:.4f}, Accuracy: {:.3f}'.format(epoch+1, epochs, itr, total_loss/p_itr, total_correct/total_len))\n",
    "            total_loss = 0\n",
    "            total_len = 0\n",
    "            total_correct = 0\n",
    "    #torch.save(model.state_dict(), './model.pt')\n",
    "        itr+=1 \n",
    "     \n",
    "    model.eval()\n",
    "    total_len = 0\n",
    "    total_correct = 0\n",
    "    for batch_id, (text, label) in tqdm(enumerate(test_dataloader), total=len(test_dataloader)):\n",
    "        encoded_list = [tokenizer.encode(t, add_special_tokens=True, max_length=MAX_LEN, pad_to_max_length=True) for t in text]\n",
    "        sample = torch.tensor(encoded_list)\n",
    "        labels = torch.tensor(label)\n",
    "        sample, label = sample.to(device), label.to(device)\n",
    "        labels = torch.tensor(label)\n",
    "        with torch.no_grad():    \n",
    "            outputs = model(sample, labels=labels)\n",
    "        \n",
    "        logits = outputs[1]\n",
    "        pred = torch.argmax(F.softmax(logits, dim=1), dim=1)\n",
    "        correct = pred.eq(labels)\n",
    "        total_correct += correct.sum().item()\n",
    "        total_len += len(labels)\n",
    "    print(\"epoch {} test acc {}\".format(epoch+1, total_correct/total_len))\n",
    "    total_len = 0\n",
    "    total_correct = 0\n",
    "    \n",
    "        \n",
    "        "
   ]
  },
  {
   "cell_type": "code",
   "execution_count": null,
   "id": "03e6b941",
   "metadata": {},
   "outputs": [],
   "source": []
  },
  {
   "cell_type": "code",
   "execution_count": null,
   "id": "f8069eec",
   "metadata": {},
   "outputs": [],
   "source": []
  }
 ],
 "metadata": {
  "kernelspec": {
   "display_name": "Python 3 (ipykernel)",
   "language": "python",
   "name": "python3"
  },
  "language_info": {
   "codemirror_mode": {
    "name": "ipython",
    "version": 3
   },
   "file_extension": ".py",
   "mimetype": "text/x-python",
   "name": "python",
   "nbconvert_exporter": "python",
   "pygments_lexer": "ipython3",
   "version": "3.10.4"
  }
 },
 "nbformat": 4,
 "nbformat_minor": 5
}
